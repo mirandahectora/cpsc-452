{
  "cells": [
    {
      "cell_type": "code",
      "execution_count": null,
      "metadata": {
        "id": "L0-WXhJM_nGO"
      },
      "outputs": [],
      "source": [
        "import torch\n",
        "import numpy as np"
      ]
    },
    {
      "cell_type": "code",
      "execution_count": null,
      "metadata": {
        "colab": {
          "base_uri": "https://localhost:8080/"
        },
        "id": "ztpTkTkL_nGP",
        "outputId": "efc967fa-f694-4a6b-a3a1-198990f4c92e"
      },
      "outputs": [
        {
          "output_type": "stream",
          "name": "stdout",
          "text": [
            "torch.Size([2, 2])\n"
          ]
        }
      ],
      "source": [
        "# Tensors are used to encode inputs and outputs of a model, as well as matrices\n",
        "\n",
        "data = ([1, 2], [3, 4]) # define 2x2 matrix\n",
        "x_data = torch.tensor(data)\n",
        "\n",
        "print(x_data.shape)"
      ]
    },
    {
      "cell_type": "code",
      "execution_count": null,
      "metadata": {
        "colab": {
          "base_uri": "https://localhost:8080/"
        },
        "id": "DDLLN-bi_nGQ",
        "outputId": "bf194767-fd38-4e66-8036-f158dd0f3f35"
      },
      "outputs": [
        {
          "output_type": "stream",
          "name": "stdout",
          "text": [
            "tensor([[0.1834, 0.1485, 0.3382],\n",
            "        [0.6785, 0.1608, 0.1725]])\n",
            "tensor([[1., 1., 1.],\n",
            "        [1., 1., 1.]])\n",
            "tensor([[0., 0., 0.],\n",
            "        [0., 0., 0.]])\n"
          ]
        }
      ],
      "source": [
        "#shape is a tuple of tensor dimensions; in the functions belw, it determines the dimensionality of the output tensors\n",
        "\n",
        "shape = (2, 3,)\n",
        "rand_tensor = torch.rand(shape) # random values between 0 and 1\n",
        "ones_tensor = torch.ones(shape) # all 1\n",
        "zeros_tensor = torch.zeros(shape) # all 0\n",
        "\n",
        "# some of these tensor/numpy arrays will be used when initializing tensors in big models\n",
        "# there are over 100 tensor operations in pytorch (including transposing, indexing, slicing, mathematical operations, ln alg, random sampling, etc)\n",
        "# bootcamp will go over slicing, joining, and multiplication\n",
        "\n",
        "print(f\"{rand_tensor}\")\n",
        "print(f\"{ones_tensor}\")\n",
        "print(f\"{zeros_tensor}\")"
      ]
    },
    {
      "cell_type": "code",
      "execution_count": null,
      "metadata": {
        "colab": {
          "base_uri": "https://localhost:8080/"
        },
        "id": "IS8slWHT_nGQ",
        "outputId": "abaf674b-c41b-430f-af4a-606cd14d4c3c"
      },
      "outputs": [
        {
          "output_type": "stream",
          "name": "stdout",
          "text": [
            "tensor([[1., 1., 1., 1.],\n",
            "        [1., 1., 1., 1.],\n",
            "        [1., 1., 1., 1.],\n",
            "        [1., 1., 1., 1.]])\n"
          ]
        }
      ],
      "source": [
        "# slicing pt 1\n",
        "\n",
        "tensor = torch.ones(4, 4)\n",
        "print (tensor)"
      ]
    },
    {
      "cell_type": "code",
      "execution_count": null,
      "metadata": {
        "colab": {
          "base_uri": "https://localhost:8080/"
        },
        "id": "FCHbE9zv_nGR",
        "outputId": "b8742e5d-7d90-43ec-8193-dc4f58c28eec"
      },
      "outputs": [
        {
          "output_type": "stream",
          "name": "stdout",
          "text": [
            "tensor([[1., 0., 1., 1.],\n",
            "        [1., 0., 1., 1.],\n",
            "        [1., 0., 1., 1.],\n",
            "        [1., 0., 1., 1.]])\n"
          ]
        }
      ],
      "source": [
        "# slicing pt 2\n",
        "\n",
        "tensor[:, 1] = 0 # index/slice the second column to set values in that column to 0\n",
        "print(tensor)"
      ]
    },
    {
      "cell_type": "code",
      "execution_count": null,
      "metadata": {
        "colab": {
          "base_uri": "https://localhost:8080/"
        },
        "id": "BmW1guDz_nGR",
        "outputId": "db1e88b4-b12e-47db-ec3e-9533b7ea4349"
      },
      "outputs": [
        {
          "output_type": "stream",
          "name": "stdout",
          "text": [
            "tensor([[1., 0., 1., 1.],\n",
            "        [1., 0., 1., 1.],\n",
            "        [1., 0., 1., 1.],\n",
            "        [1., 0., 1., 1.],\n",
            "        [1., 0., 1., 1.],\n",
            "        [1., 0., 1., 1.],\n",
            "        [1., 0., 1., 1.],\n",
            "        [1., 0., 1., 1.],\n",
            "        [1., 0., 1., 1.],\n",
            "        [1., 0., 1., 1.],\n",
            "        [1., 0., 1., 1.],\n",
            "        [1., 0., 1., 1.]])\n"
          ]
        }
      ],
      "source": [
        "#concat\n",
        "\n",
        "t1 = torch.cat([tensor, tensor, tensor], dim = 0) #concatenate/join sequence of tensors\n",
        "\n",
        "# dim 1 indicates that you should concatenate across columns\n",
        "# dim 0 indicates that you should concatenate across rows\n",
        "print(t1)"
      ]
    },
    {
      "cell_type": "code",
      "execution_count": null,
      "metadata": {
        "colab": {
          "base_uri": "https://localhost:8080/"
        },
        "id": "kgeEHCZ4_nGR",
        "outputId": "183ae566-9eef-4b5f-d319-2563eedd6ec1"
      },
      "outputs": [
        {
          "output_type": "stream",
          "name": "stdout",
          "text": [
            "tensor * tensor \n",
            " tensor([[1., 0., 1., 1.],\n",
            "        [1., 0., 1., 1.],\n",
            "        [1., 0., 1., 1.],\n",
            "        [1., 0., 1., 1.]])\n"
          ]
        }
      ],
      "source": [
        "# computing the element-wise product\n",
        "\n",
        "print(f\"tensor * tensor \\n {tensor * tensor}\")"
      ]
    },
    {
      "cell_type": "code",
      "execution_count": null,
      "metadata": {
        "colab": {
          "base_uri": "https://localhost:8080/"
        },
        "id": "CUEfkF4y_nGR",
        "outputId": "1c8d6f54-b4fb-4845-bd35-fa19b76b8f87"
      },
      "outputs": [
        {
          "output_type": "stream",
          "name": "stdout",
          "text": [
            "tensor([[3., 3., 3., 3.],\n",
            "        [3., 3., 3., 3.],\n",
            "        [3., 3., 3., 3.],\n",
            "        [3., 3., 3., 3.]])\n"
          ]
        }
      ],
      "source": [
        "# computing a matrix multiplication between two tensors\n",
        "\n",
        "print(f'{tensor @ tensor.T}')"
      ]
    },
    {
      "cell_type": "code",
      "execution_count": null,
      "metadata": {
        "id": "ONHPC6x7_nGS"
      },
      "outputs": [],
      "source": [
        "# neural networks are just multiplying a bunch of matrices together\n",
        "\n",
        "# steps in neural network training procedure:\n",
        "# 1. Define neural network that has some learnable parameters\n",
        "# 2. Iterate over a dataset of inputs\n",
        "# 3. Process input through network\n",
        "# 4. Compute the loss (ie how far the output)\n",
        "# 5. Propagate gradients back into network\n",
        "# 6. Update the weights of the network, typically by using a simple update rule (ex: weight = weight - learning_rate * gradient)"
      ]
    },
    {
      "cell_type": "code",
      "execution_count": null,
      "metadata": {
        "id": "h0PO6SHE_nGS"
      },
      "outputs": [],
      "source": [
        "# Defining neural network\n",
        "\n",
        "import torch\n",
        "import torch.nn as nn\n",
        "import torch.nn.functional as F\n",
        "\n",
        "class Net(nn.Module): # Pass in module through net to create variables necessary to initialize network\n",
        "\n",
        "    def __init__(self): # defines layers of neural network\n",
        "        super(Net, self).__init__()\n",
        "        # kernel - 1 imput image channel, 6 output channels, 5x5 square convolution\n",
        "        self.conv1 = nn.Conv2d(1, 6, 5)\n",
        "        self.conv2 = nn.Conv2d(6, 16, 5)\n",
        "        # an affline operation: y = Wx + b\n",
        "        self.fc1 = nn.Linear(16 * 5 * 5, 120) # 5x5 from image dimensions; takes 16x5x5 matrix and reduces it to 120-dimension matrix\n",
        "        self.fc2 = nn.Linear(120, 84) # reduces dimension matrix to 84\n",
        "        self.fc3 = nn.Linear(84, 10) # reduces dimension matrix to 10\n",
        "\n",
        "    def forward(self, input): # function through which input passes through\n",
        "        # Convolution Layer 1 (C1) - 1 input channel, 6 output channels; 5x5 square convolution\n",
        "        # Uses RELU activation function, and outputs tensor with size (N, 6, 28, 28), where N is size of batch\n",
        "        c1 = F.relu(self.conv1(input))\n",
        "\n",
        "        # Submapping Layer 2 (S2) - 2x2 grid, purely functional; this layer does not have any parameter, and outputs a (N, 6, 14, 14) tensor\n",
        "        s2 = F.max_pool2d(c1, (2, 2))\n",
        "\n",
        "        # Convolution Layer 3 (C2) - 6 input, 16 output; 5x5 square convolution, RELU activation function; outputs a (N, 16, 10, 10) tensor\n",
        "        c3 = F.relu(self.conv2(s2))\n",
        "\n",
        "        # Subsampling Layer 4 (S4) - 2x2 grid, purely functional; layer has no parameter, outputs (N, 16, 5, 6) tensor\n",
        "        s4 = F.max_pool2d(c3, 2)\n",
        "\n",
        "        # Flatten operation - purely functional, (N, 400) tensor output\n",
        "        s4 = torch.flatten(s4, 1)\n",
        "\n",
        "        # Fully Connected Layer 5 (F5) - (N, 400) tensor input, (N, 120) tensor output; uses RELU activation function\n",
        "        f5 = F.relu(self.fc1(s4))\n",
        "\n",
        "        #Fully Connected Layer 6 (F6) - (N, 120) tensor input, (N, 84) tensor ouptut; uses RELU activation function\n",
        "        f6 = F.relu(self.fc2(f5))\n",
        "\n",
        "        # Gaussian Layer Output - (N, 84) tensor input, (N, 10) tensor output\n",
        "        output = self.fc3(f6)\n",
        "\n",
        "        return output"
      ]
    },
    {
      "source": [
        "def __init__(self):\n",
        "    super(Net, self).__init__()\n",
        "    # kernel - 1 input image channel, 6 output channels, 5x5 square convolution\n",
        "    self.conv1 = nn.Conv2d(1, 6, 5)  # Corrected\n",
        "    self.conv2 = nn.Conv2d(6, 16, 5) # Corrected\n",
        "    # ... (rest of the code)"
      ],
      "cell_type": "code",
      "metadata": {
        "id": "PVI-snzTNLg9"
      },
      "execution_count": null,
      "outputs": []
    },
    {
      "cell_type": "code",
      "execution_count": null,
      "metadata": {
        "id": "Uf-pkksj_nGS",
        "colab": {
          "base_uri": "https://localhost:8080/"
        },
        "outputId": "70d5fff6-fdc9-4ed6-9bf5-0d667e51fb55"
      },
      "outputs": [
        {
          "output_type": "stream",
          "name": "stdout",
          "text": [
            "Net(\n",
            "  (conv1): Conv2d(1, 6, kernel_size=(5, 5), stride=(1, 1))\n",
            "  (conv2): Conv2d(6, 16, kernel_size=(5, 5), stride=(1, 1))\n",
            "  (fc1): Linear(in_features=400, out_features=120, bias=True)\n",
            "  (fc2): Linear(in_features=120, out_features=84, bias=True)\n",
            "  (fc3): Linear(in_features=84, out_features=10, bias=True)\n",
            ")\n"
          ]
        }
      ],
      "source": [
        "# Show neural network structure summary\n",
        "\n",
        "net = Net()\n",
        "print(net)\n"
      ]
    },
    {
      "cell_type": "code",
      "source": [
        "# Calculate mean-squared error between output and target\n",
        "\n",
        "input = torch.randn(1, 1, 32, 32) # dummy input\n",
        "output = net(input)\n",
        "target = torch.randn(10) # dummy target, values is number of dimensions\n",
        "target = target.view(-1, 1) # make target the same shape as output\n",
        "criterion = nn.MSELoss()\n",
        "\n",
        "loss = criterion(output, target)\n",
        "print(loss)"
      ],
      "metadata": {
        "id": "G7k5ucJwIBhm",
        "colab": {
          "base_uri": "https://localhost:8080/"
        },
        "outputId": "07e10255-fd1c-460a-b07e-5d0b767b296b"
      },
      "execution_count": null,
      "outputs": [
        {
          "output_type": "stream",
          "name": "stdout",
          "text": [
            "tensor(1.5108, grad_fn=<MseLossBackward0>)\n"
          ]
        },
        {
          "output_type": "stream",
          "name": "stderr",
          "text": [
            "/usr/local/lib/python3.11/dist-packages/torch/nn/modules/loss.py:608: UserWarning: Using a target size (torch.Size([10, 1])) that is different to the input size (torch.Size([1, 10])). This will likely lead to incorrect results due to broadcasting. Please ensure they have the same size.\n",
            "  return F.mse_loss(input, target, reduction=self.reduction)\n"
          ]
        }
      ]
    },
    {
      "cell_type": "code",
      "source": [
        "# Backpropagate error (clear existing gradients beforeheand)\n",
        "\n",
        "net.zero_grad() # zeroes gradient buffers of all parameters\n",
        "loss.backward()"
      ],
      "metadata": {
        "id": "EvkIeTZMW537"
      },
      "execution_count": null,
      "outputs": []
    },
    {
      "cell_type": "code",
      "source": [
        "# Update weights using Stochastic Gradient Descent (SGD)\n",
        "\n",
        "import torch.optim as optim\n",
        "\n",
        "optimizer = optim.SGD(net.parameters(), lr = 0.01) # model continues to learn after each epoch\n",
        "\n",
        "# initialize optimizer in training loop\n",
        "optimizer.zero_grad() # set gradient buffers to zero\n",
        "output = net(input)\n",
        "loss = criterion(output, target) # defined as MSE loss\n",
        "loss.backward()\n",
        "optimizer.step() # weights are updated"
      ],
      "metadata": {
        "colab": {
          "base_uri": "https://localhost:8080/"
        },
        "id": "I1Kdu17UYeov",
        "outputId": "162469fe-1ad5-4e2f-9540-8448848c59b0"
      },
      "execution_count": null,
      "outputs": [
        {
          "output_type": "stream",
          "name": "stderr",
          "text": [
            "/usr/local/lib/python3.11/dist-packages/torch/nn/modules/loss.py:608: UserWarning: Using a target size (torch.Size([10, 1])) that is different to the input size (torch.Size([1, 10])). This will likely lead to incorrect results due to broadcasting. Please ensure they have the same size.\n",
            "  return F.mse_loss(input, target, reduction=self.reduction)\n"
          ]
        }
      ]
    },
    {
      "cell_type": "code",
      "source": [
        "# Training Neural Network\n",
        "\n",
        "import torch\n",
        "import torchvision\n",
        "import torchvision.transforms as transforms\n",
        "\n",
        "num_workers = 2 # set number of threads used for process\n",
        "\n",
        "batch_size = 4 # set number of samples in a given batch\n",
        "\n",
        "transform = transforms.Compose([\n",
        "                                transforms.ToTensor(),\n",
        "                                transforms.Normalize((0.5, 0.5, 0.5), (0.5, 0.5, 0.5))\n",
        "                                ])"
      ],
      "metadata": {
        "id": "u2_d9j8rY1Q2"
      },
      "execution_count": null,
      "outputs": []
    },
    {
      "cell_type": "code",
      "source": [
        "# Load in Training and Testing Data\n",
        "\n",
        "trainset = torchvision.datasets.CIFAR10(\n",
        "    root = './data', train = True, download = True, transform = transform\n",
        ")\n",
        "\n",
        "trainloader = torch.utils.data.DataLoader(\n",
        "    trainset, batch_size = batch_size, shuffle = True, num_workers = num_workers\n",
        ") # makes data more readable by pytorch\n",
        "\n",
        "testset = torchvision.datasets.CIFAR10(\n",
        "    root = './data', train = False, download = True, transform = transform\n",
        ")\n",
        "\n",
        "testloader = torch.utils.data.DataLoader(\n",
        "    testset, batch_size = batch_size, shuffle = False, num_workers = num_workers\n",
        ")\n",
        "\n",
        "classes = (\n",
        "    'plane', 'car', 'bird', 'cat', 'deer', 'dog', 'frog', 'horse', 'ship', 'truck'\n",
        ")"
      ],
      "metadata": {
        "colab": {
          "base_uri": "https://localhost:8080/"
        },
        "id": "SPaOOxKDdsmf",
        "outputId": "f6a41445-2984-48c1-a570-ade4068012b4"
      },
      "execution_count": null,
      "outputs": [
        {
          "output_type": "stream",
          "name": "stdout",
          "text": [
            "Files already downloaded and verified\n",
            "Files already downloaded and verified\n"
          ]
        }
      ]
    },
    {
      "cell_type": "code",
      "source": [
        "# Observe Training Data\n",
        "\n",
        "import matplotlib.pyplot as plt\n",
        "import numpy as np\n",
        "\n",
        "def imshow(img): # function for showing images\n",
        "  img = img / 2 + 0.5 # unnormalize\n",
        "  npimg = img.numpy()\n",
        "  plt.imshow(np.transpose(npimg, (1, 2, 0)))\n",
        "  plt.show()\n",
        "\n",
        "dataiter = iter(trainloader) # pull random training images\n",
        "images, labels = next(dataiter)\n",
        "\n",
        "imshow(torchvision.utils.make_grid(images)) #show images\n",
        "\n",
        "print(' '.join(f'{classes[labels[j]]:5s}' for j in range(batch_size)))\n",
        "\n"
      ],
      "metadata": {
        "colab": {
          "base_uri": "https://localhost:8080/",
          "height": 211
        },
        "id": "5hDQl2D9etfb",
        "outputId": "88af07cc-d026-48af-efe0-60588bd88689"
      },
      "execution_count": null,
      "outputs": [
        {
          "output_type": "display_data",
          "data": {
            "text/plain": [
              "<Figure size 640x480 with 1 Axes>"
            ],
            "image/png": "[encoded data removed]"
          },
          "metadata": {}
        },
        {
          "output_type": "stream",
          "name": "stdout",
          "text": [
            "bird  deer  car   horse\n"
          ]
        }
      ]
    },
    {
      "cell_type": "code",
      "source": [
        "# Define Convolutional Neural Network (copy neural network form before and modify to take three-channel images instead of 1-channel images)\n",
        "\n",
        "import torch\n",
        "import torch.nn as nn\n",
        "import torch.nn.functional as F\n",
        "\n",
        "class Net(nn.Module):\n",
        "\n",
        "    def __init__(self, use_convolutions:bool = False):\n",
        "        super(Net, self).__init__()\n",
        "        self.use_convolutions = use_convolutions\n",
        "\n",
        "        self.conv1 = nn.Conv2d(3, 6, 5) # Number of input channels changed from 1 to 3\n",
        "        self.pool = nn.MaxPool2d(2, 2)\n",
        "        self.conv2 = nn.Conv2d(6, 16, 5)\n",
        "\n",
        "        self.flat = nn.Flatten()\n",
        "        self.conv_matcher = nn.Linear(3 * 32* 32, 16 * 5 * 5) # Linear layer to change dimensions or contract to another specific dimension\n",
        "\n",
        "# NOTE: apply layers in order - linear, then activation, then linear, then activation, etc, until the end; the last layer is linear\n",
        "\n",
        "        self.fc1 = nn.Linear(16 * 5 * 5, 120)\n",
        "        self.fc2 = nn.Linear(120, 84) # 120 and 84 are hidden dimensions\n",
        "        self.fc3 = nn.Linear(84, 10)\n",
        "\n",
        "    def forward(self, x):\n",
        "      if self.use_convolutions:\n",
        "        x = self.pool(F.relu(self.conv1(x)))\n",
        "        x = self.pool(F.relu(self.conv2(x)))\n",
        "        x = torch.flatten(x, 1) # flatten all dimensions except batch (flattening means the number of dimensions out such that the end dimensions are 1 * the output of that multiplication)\n",
        "      else:\n",
        "        x = self.flat(x)\n",
        "        x = self.conv_matcher(x) # Linear matcher which converts\n",
        "        x = F.relu(x)\n",
        "\n",
        "      x = F.relu(self.fc1(x))\n",
        "      x = F.relu(self.fc2(x))\n",
        "      x = self.fc3(x)\n",
        "\n",
        "      return  x\n",
        "\n",
        "net = Net(use_convolutions = False)\n"
      ],
      "metadata": {
        "id": "AffnU0tTh60z"
      },
      "execution_count": null,
      "outputs": []
    },
    {
      "cell_type": "code",
      "source": [
        "# Defining Loss Function and Optimizer\n",
        "\n",
        "import torch.optim as optim\n",
        "from torch.optim.lr_scheduler import StepLR\n",
        "\n",
        "criterion = nn.CrossEntropyLoss()\n",
        "optimizer = optim.SGD(net.parameters(), lr = 0.01, momentum = 0.9)\n",
        "scheduler = StepLR(optimizer, step_size = 10, gamma = 0.1) # Optional, since pytorch does it for you already; defines step size"
      ],
      "metadata": {
        "id": "7ZE05m3fkMuu"
      },
      "execution_count": null,
      "outputs": []
    },
    {
      "cell_type": "code",
      "source": [
        "from logging import logProcesses\n",
        "# Train the Network\n",
        "\n",
        "def train_step(model, data, optimizer = optimizer, criterion = criterion, scheduler = None, data_idx = None):\n",
        "  inputs, labels = data # pull training data\n",
        "\n",
        "  optimizer.zero_grad() # reset gradients\n",
        "\n",
        "  outputs = model(inputs) # pass inputs into model\n",
        "  loss = criterion(outputs, labels) # compare model output with actual data\n",
        "  loss.backward() # back propagate\n",
        "  optimizer.step() # take another step\n",
        "\n",
        "  return loss\n",
        "\n",
        "def train_loop(\n",
        "    model, dataloader, epochs = 2, optimizer = optimizer, criterion = criterion, scheduler = None, basename = './model'\n",
        "):\n",
        "  model.train() # set to training mode\n",
        "  for epoch in range(epochs): # loop over dataset multiple times\n",
        "\n",
        "    running_loss = 0.0\n",
        "    for i, data in enumerate(dataloader, 0): # pass data through dataloader\n",
        "      loss = train_step(model, data, optimizer, criterion, scheduler, data_idx = i)\n",
        "\n",
        "      running_loss += loss.item() # print statistics\n",
        "      if i % 2000 == 1999: #print every 2000 mini batches\n",
        "        print(f'[{epoch + 1}, {i + 1:5d}] loss: {running_loss / 2000:.3f}')\n",
        "        running_loss = 0.0\n",
        "\n",
        "    if scheduler is not None:\n",
        "      scheduler.step()\n",
        "\n",
        "    model.eval()\n",
        "\n",
        "    print('Finished Training')\n",
        "\n",
        "train_loop(net, trainloader, epochs = 2, scheduler = scheduler)\n"
      ],
      "metadata": {
        "colab": {
          "base_uri": "https://localhost:8080/"
        },
        "id": "oOYhH1HQnqt_",
        "outputId": "a3b4df71-1cde-4104-9f3e-e152998e4bc9"
      },
      "execution_count": null,
      "outputs": [
        {
          "output_type": "stream",
          "name": "stdout",
          "text": [
            "[1,  2000] loss: 2.057\n",
            "[1,  4000] loss: 2.020\n",
            "[1,  6000] loss: 2.050\n",
            "[1,  8000] loss: 2.121\n",
            "[1, 10000] loss: 2.125\n",
            "[1, 12000] loss: 2.125\n",
            "Finished Training\n",
            "[2,  2000] loss: 2.176\n",
            "[2,  4000] loss: 2.172\n",
            "[2,  6000] loss: 2.182\n",
            "[2,  8000] loss: 2.239\n",
            "[2, 10000] loss: 2.233\n",
            "[2, 12000] loss: 2.179\n",
            "Finished Training\n"
          ]
        }
      ]
    },
    {
      "cell_type": "code",
      "source": [
        "# Save training model\n",
        "\n",
        "PATH = './civer_net.pth'\n",
        "torch.save(net.state_dict(), PATH)"
      ],
      "metadata": {
        "id": "tZke-VSQoFmh"
      },
      "execution_count": null,
      "outputs": []
    },
    {
      "cell_type": "code",
      "source": [
        "# Test Network on Test Data\n",
        "\n",
        "dataiter = iter(testloader)\n",
        "images, labels = next(dataiter)\n",
        "\n",
        "imshow(torchvision.utils.make_grid(images))\n",
        "print('Groundtruth: ', ' '.join(f'{classes[labels[j]]:5s}' for j in range(4)))"
      ],
      "metadata": {
        "colab": {
          "base_uri": "https://localhost:8080/",
          "height": 211
        },
        "id": "pUp4bxGdrtKD",
        "outputId": "f41c3980-c4f3-4fc1-ad72-eb46884b88ce"
      },
      "execution_count": null,
      "outputs": [
        {
          "output_type": "display_data",
          "data": {
            "text/plain": [
              "<Figure size 640x480 with 1 Axes>"
            ],
            "image/png": "[encoded data removed]"
          },
          "metadata": {}
        },
        {
          "output_type": "stream",
          "name": "stdout",
          "text": [
            "Groundtruth:  cat   ship  ship  plane\n"
          ]
        }
      ]
    },
    {
      "cell_type": "code",
      "source": [
        "# Load Saved Model\n",
        "\n",
        "net = Net(use_convolutions = False) # NOTE: make sure you keep use_convolutions the same way as when you trained the model\n",
        "net.load_state_dict(torch.load(PATH))"
      ],
      "metadata": {
        "colab": {
          "base_uri": "https://localhost:8080/"
        },
        "id": "UejwbFsQ1O71",
        "outputId": "59cf6c54-937a-4b03-c0a7-92b658dfadf4"
      },
      "execution_count": null,
      "outputs": [
        {
          "output_type": "stream",
          "name": "stderr",
          "text": [
            "<ipython-input-26-110cf350f442>:4: FutureWarning: You are using `torch.load` with `weights_only=False` (the current default value), which uses the default pickle module implicitly. It is possible to construct malicious pickle data which will execute arbitrary code during unpickling (See https://github.com/pytorch/pytorch/blob/main/SECURITY.md#untrusted-models for more details). In a future release, the default value for `weights_only` will be flipped to `True`. This limits the functions that could be executed during unpickling. Arbitrary objects will no longer be allowed to be loaded via this mode unless they are explicitly allowlisted by the user via `torch.serialization.add_safe_globals`. We recommend you start setting `weights_only=True` for any use case where you don't have full control of the loaded file. Please open an issue on GitHub for any issues related to this experimental feature.\n",
            "  net.load_state_dict(torch.load(PATH))\n"
          ]
        },
        {
          "output_type": "execute_result",
          "data": {
            "text/plain": [
              "<All keys matched successfully>"
            ]
          },
          "metadata": {},
          "execution_count": 26
        }
      ]
    },
    {
      "cell_type": "code",
      "source": [
        "# Change Model To Test Mode\n",
        "\n",
        "net.eval() # changes model to evaluate rather than train\n",
        "outputs = net(images)"
      ],
      "metadata": {
        "id": "-2kW6RUN1k9f"
      },
      "execution_count": null,
      "outputs": []
    },
    {
      "cell_type": "code",
      "source": [
        "# Run Network on Test Data\n",
        "\n",
        "_, predicted = torch.max(outputs, 1) # each output is an energy for every class; the higher the energy of a given class, the more the network thinks it's what the image is\n",
        "\n",
        "print('Predicted: ', ' '.join(f'{classes[predicted[j]]:5s}' for j in range(4)))\n",
        "\n",
        "# Non-convolutional model predicts only one kind of class for each image (this is call mode collapse)"
      ],
      "metadata": {
        "colab": {
          "base_uri": "https://localhost:8080/"
        },
        "id": "l8wbkPG31quJ",
        "outputId": "bf907672-5019-492c-a6b9-716e8c83d583"
      },
      "execution_count": null,
      "outputs": [
        {
          "output_type": "stream",
          "name": "stdout",
          "text": [
            "Predicted:  plane plane plane plane\n"
          ]
        }
      ]
    },
    {
      "cell_type": "code",
      "source": [
        "# Switch to and Run Convoluted Neural Network (CNN)\n",
        "\n",
        "c_net = Net(use_convolutions = True)\n",
        "c_criterion = nn.CrossEntropyLoss()\n",
        "c_optimizer = optim.SGD(c_net.parameters(), lr = 0.01, momentum = 0.9)\n",
        "c_scheduler = StepLR(c_optimizer, step_size = 10, gamma = 0.1)\n",
        "\n",
        "train_loop(c_net, trainloader, 2, c_optimizer, c_criterion, c_scheduler)"
      ],
      "metadata": {
        "colab": {
          "base_uri": "https://localhost:8080/"
        },
        "id": "bgJ5xiP72JXY",
        "outputId": "92772f77-16cc-47e3-d0f2-03e1b087cc4f"
      },
      "execution_count": null,
      "outputs": [
        {
          "output_type": "stream",
          "name": "stdout",
          "text": [
            "[1,  2000] loss: 2.099\n",
            "[1,  4000] loss: 1.942\n",
            "[1,  6000] loss: 1.955\n",
            "[1,  8000] loss: 1.939\n",
            "[1, 10000] loss: 1.965\n",
            "[1, 12000] loss: 1.981\n",
            "Finished Training\n",
            "[2,  2000] loss: 1.978\n",
            "[2,  4000] loss: 1.989\n",
            "[2,  6000] loss: 1.989\n",
            "[2,  8000] loss: 1.989\n",
            "[2, 10000] loss: 2.036\n",
            "[2, 12000] loss: 2.064\n",
            "Finished Training\n"
          ]
        }
      ]
    },
    {
      "cell_type": "code",
      "source": [
        "# Save New CNN Output\n",
        "\n",
        "PATH = './cifar_cnet.pth'\n",
        "torch.save(c_net.state_dict(), PATH)"
      ],
      "metadata": {
        "id": "G55C-bra2867"
      },
      "execution_count": null,
      "outputs": []
    },
    {
      "cell_type": "code",
      "source": [
        "# Run CNN on Test Batch\n",
        "\n",
        "c_net.eval()\n",
        "outputs = c_net(images)\n",
        "\n",
        "_, predicted = torch.max(outputs, 1)\n",
        "\n",
        "print('Predicted: ', ' '.join(f'{classes[predicted[j]]:5s}' for j in range(4)))\n"
      ],
      "metadata": {
        "colab": {
          "base_uri": "https://localhost:8080/"
        },
        "id": "hfAY_PBz9FXB",
        "outputId": "c2193650-cb96-49fa-8274-6eee7a615ec0"
      },
      "execution_count": null,
      "outputs": [
        {
          "output_type": "stream",
          "name": "stdout",
          "text": [
            "Predicted:  car   car   car   ship \n"
          ]
        }
      ]
    },
    {
      "cell_type": "code",
      "source": [
        "# Run CNN on Test Dataset\n",
        "\n",
        "correct = 0\n",
        "total = 0\n",
        "\n",
        "with torch.no_grad(): # since we're testing and not training, gradient outputs need not be calculated\n",
        "  for data in testloader:\n",
        "    images, labels = data\n",
        "    outputs = c_net(images)\n",
        "    _, predicted = torch.max(outputs, 1)\n",
        "    total += labels.size(0)\n",
        "    correct += (predicted == labels).sum().item()\n",
        "\n",
        "print(f'Accuracy of the network on the 10000 test images: {100 * correct // total} %')\n"
      ],
      "metadata": {
        "colab": {
          "base_uri": "https://localhost:8080/"
        },
        "id": "NUlE62mQ9J8y",
        "outputId": "9e433043-a1be-407c-a91d-a0e0dfbcdee8"
      },
      "execution_count": null,
      "outputs": [
        {
          "output_type": "stream",
          "name": "stdout",
          "text": [
            "Accuracy of the network on the 10000 test images: 20 %\n"
          ]
        }
      ]
    },
    {
      "cell_type": "code",
      "source": [
        "# Examine Individual Class Success Rate\n",
        "\n",
        "def eval_classes(model, dataloader):\n",
        "  correct_pred = {classname: 0 for classname in classes}\n",
        "  total_pred = {classname: 0 for classname in classes}\n",
        "\n",
        "  with torch.no_grad(): # run predictions\n",
        "    for data in dataloader:\n",
        "      images, labels = data\n",
        "      outputs = model(images)\n",
        "      _, predictions = torch.max(outputs, 1)\n",
        "\n",
        "      for label, prediction in zip(labels, predictions): # sort predictions by class\n",
        "          if label == prediction:\n",
        "            correct_pred[classes[label]] += 1\n",
        "          total_pred[classes[label]] += 1\n",
        "\n",
        "    for classname, correct_count in correct_pred.items(): # calculate accuracy\n",
        "      accuracy = 100 * float(correct_count) / total_pred[classname]\n",
        "      print(f'Accuracy for class: {classname:5s} is {accuracy:.1f} %')\n",
        "      return correct_pred, total_pred\n",
        "\n",
        "print('Class eval for net:\\n___________________') # header\n",
        "cp, tp = eval_classes(net, testloader)\n",
        "\n",
        "for classname, correct_count in cp.items(): # display all classes\n",
        "  accuracy = 100 * float(correct_count) / tp[classname]\n",
        "  print(f'Accuracy for class: {classname:5s} is {accuracy:.1f} %')\n",
        "\n",
        "print('Class eval for c_net:\\n___________________')\n",
        "cp, tp = eval_classes(c_net, testloader )\n",
        "\n",
        "for classname, correct_count in cp.items():\n",
        "  accuracy = 100 * float(correct_count) / tp[classname]\n",
        "  print(f'Accuracy for class: {classname:5s} is {accuracy:.1f} %')"
      ],
      "metadata": {
        "colab": {
          "base_uri": "https://localhost:8080/"
        },
        "id": "hEykWDOW-DL1",
        "outputId": "89759256-0d59-40b9-ef58-b58a34e612e8"
      },
      "execution_count": null,
      "outputs": [
        {
          "output_type": "stream",
          "name": "stdout",
          "text": [
            "Class eval for net:\n",
            "___________________\n",
            "Accuracy for class: plane is 0.0 %\n",
            "Accuracy for class: plane is 0.0 %\n",
            "Accuracy for class: car   is 0.0 %\n",
            "Accuracy for class: bird  is 100.0 %\n",
            "Accuracy for class: cat   is 0.0 %\n",
            "Accuracy for class: deer  is 0.0 %\n",
            "Accuracy for class: dog   is 0.0 %\n",
            "Accuracy for class: frog  is 0.0 %\n",
            "Accuracy for class: horse is 0.0 %\n",
            "Accuracy for class: ship  is 0.0 %\n",
            "Accuracy for class: truck is 0.0 %\n",
            "Class eval for c_net:\n",
            "___________________\n",
            "Accuracy for class: plane is 13.3 %\n",
            "Accuracy for class: plane is 13.3 %\n",
            "Accuracy for class: car   is 81.0 %\n",
            "Accuracy for class: bird  is 1.3 %\n",
            "Accuracy for class: cat   is 6.0 %\n",
            "Accuracy for class: deer  is 44.4 %\n",
            "Accuracy for class: dog   is 32.0 %\n",
            "Accuracy for class: frog  is 0.5 %\n",
            "Accuracy for class: horse is 0.8 %\n",
            "Accuracy for class: ship  is 21.2 %\n",
            "Accuracy for class: truck is 1.1 %\n"
          ]
        }
      ]
    },
    {
      "cell_type": "code",
      "source": [
        "# Train CNN on a GPU\n",
        "\n",
        "device = torch.device('cuda:0' if torch.cuda.is_available() else 'cpu') # check if CUDA cores are available\n",
        "\n",
        "print(device)"
      ],
      "metadata": {
        "colab": {
          "base_uri": "https://localhost:8080/"
        },
        "id": "IR8bvQl1-vjV",
        "outputId": "15ae5547-e6ba-4a56-f898-53819f462d73"
      },
      "execution_count": null,
      "outputs": [
        {
          "output_type": "stream",
          "name": "stdout",
          "text": [
            "cpu\n"
          ]
        }
      ]
    }
  ],
  "metadata": {
    "kernelspec": {
      "display_name": "Python 3",
      "language": "python",
      "name": "python3"
    },
    "language_info": {
      "codemirror_mode": {
        "name": "ipython",
        "version": 3
      },
      "file_extension": ".py",
      "mimetype": "text/x-python",
      "name": "python",
      "nbconvert_exporter": "python",
      "pygments_lexer": "ipython3",
      "version": "3.12.5"
    },
    "colab": {
      "provenance": []
    }
  },
  "nbformat": 4,
  "nbformat_minor": 0
}